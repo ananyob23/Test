{
 "cells": [
  {
   "cell_type": "code",
   "execution_count": null,
   "id": "d3c623e5",
   "metadata": {},
   "outputs": [],
   "source": [
    "import streamlit as st\n",
    "import pyodbc\n",
    "\n",
    "# Initialize connection.\n",
    "# Uses st.cache_resource to only run once.\n",
    "@st.cache_resource\n",
    "def init_connection():\n",
    "    return pyodbc.connect(\n",
    "        \"DRIVER={ODBC Driver 17 for SQL Server};SERVER=\"\n",
    "        + st.secrets[\"server\"]\n",
    "        + \";DATABASE=\"\n",
    "        + st.secrets[\"database\"]\n",
    "        + \";UID=\"\n",
    "        + st.secrets[\"username\"]\n",
    "        + \";PWD=\"\n",
    "        + st.secrets[\"password\"]\n",
    "    )\n",
    "\n",
    "conn = init_connection()\n",
    "\n",
    "# Perform query.\n",
    "# Uses st.cache_data to only rerun when the query changes or after 10 min.\n",
    "@st.cache_data(ttl=600)\n",
    "def run_query(query):\n",
    "    with conn.cursor() as cur:\n",
    "        cur.execute(query)\n",
    "        return cur.fetchall()\n",
    "\n",
    "rows = run_query(\"SELECT * from mytable;\")\n",
    "\n",
    "# Print results.\n",
    "for row in rows:\n",
    "    st.write(f\"{row[0]} has a :{row[1]}:\")"
   ]
  }
 ],
 "metadata": {
  "kernelspec": {
   "display_name": "Python 3 (ipykernel)",
   "language": "python",
   "name": "python3"
  },
  "language_info": {
   "codemirror_mode": {
    "name": "ipython",
    "version": 3
   },
   "file_extension": ".py",
   "mimetype": "text/x-python",
   "name": "python",
   "nbconvert_exporter": "python",
   "pygments_lexer": "ipython3",
   "version": "3.10.4"
  }
 },
 "nbformat": 4,
 "nbformat_minor": 5
}
